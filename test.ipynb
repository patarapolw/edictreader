{
 "cells": [
  {
   "cell_type": "code",
   "execution_count": 1,
   "metadata": {},
   "outputs": [],
   "source": [
    "from edictreader.dict import *"
   ]
  },
  {
   "cell_type": "code",
   "execution_count": 2,
   "metadata": {},
   "outputs": [
    {
     "data": {
      "text/plain": [
       "[{'english': ['a bit', 'a little', 'one dot', 'one point'],\n",
       "  'reading': 'yi1 dian3',\n",
       "  'simplified': '一点',\n",
       "  'traditional': '一點'},\n",
       " {'english': ['bit by bit', 'every little bit'],\n",
       "  'reading': 'yi1 dian3 yi1 di1',\n",
       "  'simplified': '一点一滴',\n",
       "  'traditional': '一點一滴'},\n",
       " {'english': ['little by little', 'bit by bit', 'gradually'],\n",
       "  'reading': 'yi1 dian3 yi1 dian3',\n",
       "  'simplified': '一点一点',\n",
       "  'traditional': '一點一點'},\n",
       " {'english': ['not at all'],\n",
       "  'reading': 'yi1 dian3 bu4',\n",
       "  'simplified': '一点不',\n",
       "  'traditional': '一點不'},\n",
       " {'english': ['erhua variant of 一點|一点[yi1 dian3]'],\n",
       "  'reading': 'yi1 dian3 r5',\n",
       "  'simplified': '一点儿',\n",
       "  'traditional': '一點兒'},\n",
       " {'english': ['a hint is all that is needed',\n",
       "   'understanding each other without the need to explain'],\n",
       "  'reading': 'yi1 dian3 jiu4 tong1',\n",
       "  'simplified': '一点就通',\n",
       "  'traditional': '一點就通'},\n",
       " {'english': ['honest and trustworthy (idiom)'],\n",
       "  'reading': 'yi1 dian3 shui3 yi1 ge4 pao4',\n",
       "  'simplified': '一点水一个泡',\n",
       "  'traditional': '一點水一個泡'},\n",
       " {'english': ['(math.) neighborhood of a point'],\n",
       "  'reading': 'yi1 dian3 lin2 yu4',\n",
       "  'simplified': '一点邻域',\n",
       "  'traditional': '一點鄰域'},\n",
       " {'english': ['a little bit'],\n",
       "  'reading': 'yi1 dian3 dian3',\n",
       "  'simplified': '一点点',\n",
       "  'traditional': '一點點'},\n",
       " {'english': ['no trace to be seen'],\n",
       "  'reading': 'bu4 jian4 yi1 dian3 zong1 ying3',\n",
       "  'simplified': '不见一点踪影',\n",
       "  'traditional': '不見一點蹤影'},\n",
       " {'english': ['blackjack (card game)'],\n",
       "  'reading': 'er4 shi2 yi1 dian3',\n",
       "  'simplified': '二十一点',\n",
       "  'traditional': '二十一點'},\n",
       " {'reading': 'cha4 yi1 dian3',\n",
       "  'see_also': '差點|差点[cha4 dian3]',\n",
       "  'simplified': '差一点',\n",
       "  'traditional': '差一點'},\n",
       " {'english': ['erhua variant of 差一點|差一点[cha4 yi1 dian3]'],\n",
       "  'reading': 'cha4 yi1 dian3 r5',\n",
       "  'simplified': '差一点儿',\n",
       "  'traditional': '差一點兒'},\n",
       " {'english': ['hearts linked as one, just as the proverbial rhinoceros communicates emotion telepathically through his single horn (idiom); fig. two hearts beat as one'],\n",
       "  'reading': 'xin1 you3 ling2 xi1 yi1 dian3 tong1',\n",
       "  'simplified': '心有灵犀一点通',\n",
       "  'traditional': '心有靈犀一點通'},\n",
       " {'english': ['a bit', 'a little'],\n",
       "  'reading': 'you3 yi1 dian3 r5',\n",
       "  'simplified': '有一点儿',\n",
       "  'traditional': '有一點兒'},\n",
       " {'english': ['special technique', 'trick of the trade', 'knack'],\n",
       "  'reading': 'jiang1 hu2 yi1 dian3 jue2',\n",
       "  'simplified': '江湖一点诀',\n",
       "  'traditional': '江湖一點訣'},\n",
       " {'english': ['mental rapport', 'likeness of mind', 'spiritual link'],\n",
       "  'reading': 'ling2 xi1 yi1 dian3 tong1',\n",
       "  'simplified': '灵犀一点通',\n",
       "  'traditional': '靈犀一點通'}]"
      ]
     },
     "execution_count": 2,
     "metadata": {},
     "output_type": "execute_result"
    }
   ],
   "source": [
    "d = Cedict()\n",
    "list(d.search({'simplified': '一点'}))"
   ]
  },
  {
   "cell_type": "code",
   "execution_count": 3,
   "metadata": {},
   "outputs": [
    {
     "data": {
      "text/plain": [
       "[{'english': ['mole'],\n",
       "  'id': 'EntL2707280',\n",
       "  'japanese': ['鼹鼠'],\n",
       "  'pos': ['noun (common) (futsuumeishi)',\n",
       "   'word usually written using kana alone',\n",
       "   'ksb:'],\n",
       "  'raw': '(n) (uk) (ksb:) (See 土竜) mole/EntL2707280',\n",
       "  'reading': ['うごろもち'],\n",
       "  'see_also': ['土竜']}]"
      ]
     },
     "execution_count": 3,
     "metadata": {},
     "output_type": "execute_result"
    }
   ],
   "source": [
    "d = Edict2()\n",
    "list(d.search({'japanese': '鼹鼠'}))"
   ]
  },
  {
   "cell_type": "code",
   "execution_count": 2,
   "metadata": {},
   "outputs": [
    {
     "data": {
      "text/plain": [
       "[{'english': ['mole'],\n",
       "  'id': '2707280',\n",
       "  'japanese': {'others': ['鼹鼠'], 'primary': []},\n",
       "  'misc': ['word usually written using kana alone'],\n",
       "  'pos': ['noun (common) (futsuumeishi)'],\n",
       "  'raw': OrderedDict([('ent_seq', '2707280'),\n",
       "               ('k_ele', OrderedDict([('keb', '鼹鼠')])),\n",
       "               ('r_ele', OrderedDict([('reb', 'うごろもち')])),\n",
       "               ('sense',\n",
       "                OrderedDict([('pos', 'noun (common) (futsuumeishi)'),\n",
       "                             ('xref', '土竜'),\n",
       "                             ('misc', 'word usually written using kana alone'),\n",
       "                             ('dial', 'Kansai-ben'),\n",
       "                             ('gloss', 'mole')]))]),\n",
       "  'reading': {'others': ['うごろもち'], 'primary': []},\n",
       "  'xml': b'<entry>\\n<ent_seq>2707280</ent_seq>\\n<k_ele>\\n<keb>&#40761;&#40736;</keb>\\n</k_ele>\\n<r_ele>\\n<reb>&#12358;&#12372;&#12429;&#12418;&#12385;</reb>\\n</r_ele>\\n<sense>\\n<pos>noun (common) (futsuumeishi)</pos>\\n<xref>&#22303;&#31452;</xref>\\n<misc>word usually written using kana alone</misc>\\n<dial>Kansai-ben</dial>\\n<gloss>mole</gloss>\\n</sense>\\n</entry>\\n',\n",
       "  'xref': ['土竜']}]"
      ]
     },
     "execution_count": 2,
     "metadata": {},
     "output_type": "execute_result"
    }
   ],
   "source": [
    "d = JMdict()\n",
    "d.load_query('japanese')\n",
    "list(d.search({'japanese': '鼹鼠'}))"
   ]
  },
  {
   "cell_type": "code",
   "execution_count": null,
   "metadata": {},
   "outputs": [],
   "source": []
  }
 ],
 "metadata": {
  "kernelspec": {
   "display_name": "Python 3",
   "language": "python",
   "name": "python3"
  },
  "language_info": {
   "codemirror_mode": {
    "name": "ipython",
    "version": 3
   },
   "file_extension": ".py",
   "mimetype": "text/x-python",
   "name": "python",
   "nbconvert_exporter": "python",
   "pygments_lexer": "ipython3",
   "version": "3.6.4"
  }
 },
 "nbformat": 4,
 "nbformat_minor": 1
}
